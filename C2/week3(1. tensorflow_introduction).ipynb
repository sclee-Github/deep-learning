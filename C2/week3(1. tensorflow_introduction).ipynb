{
 "cells": [
  {
   "cell_type": "code",
   "execution_count": null,
   "metadata": {},
   "outputs": [],
   "source": [
    "import tensorflow as tf\n",
    "import numpy as np\n",
    "tf.compat.v1.disable_v2_behavior() \n",
    "\n",
    "# import tensorflow.compat.v1 as tf\n",
    "# tf.disable_v2_behavior()\n",
    "\n",
    "coefficients = np.array([[1], [-10], [25]])\n",
    "\n",
    "w = tf.Variable([0], dtype=tf.float32)\n",
    "x = tf.compat.v1.placeholder(shape=[3,1], dtype=tf.float32)\n",
    "\n",
    "cost = x[0][0]*w**2 + x[1][0]*w + x[2][0]  # (w-5)** 2\n",
    "train = tf.compat.v1.train.GradientDescentOptimizer(0.01).minimize(cost)\n",
    "\n",
    "init = tf.compat.v1.global_variables_initializer()\n",
    "session = tf.compat.v1.Session()\n",
    "session.run(init)\n",
    "print(session.run(w))\n",
    "\n",
    "# with tf.Session() as session:\n",
    "#     session.run(init)\n",
    "#     print(session.run(w))\n",
    "\n",
    "for i in range(1000):\n",
    "    session.run(train, feed_dict={x:coefficients})\n",
    "\n",
    "print(session.run(w))\n",
    "\n",
    "session.close()"
   ]
  },
  {
   "cell_type": "code",
   "execution_count": null,
   "metadata": {},
   "outputs": [],
   "source": []
  },
  {
   "cell_type": "code",
   "execution_count": null,
   "metadata": {},
   "outputs": [],
   "source": []
  },
  {
   "cell_type": "code",
   "execution_count": null,
   "metadata": {},
   "outputs": [],
   "source": []
  },
  {
   "cell_type": "code",
   "execution_count": null,
   "metadata": {},
   "outputs": [],
   "source": []
  },
  {
   "cell_type": "code",
   "execution_count": null,
   "metadata": {},
   "outputs": [],
   "source": []
  },
  {
   "cell_type": "code",
   "execution_count": null,
   "metadata": {},
   "outputs": [],
   "source": []
  }
 ],
 "metadata": {
  "kernelspec": {
   "display_name": "base",
   "language": "python",
   "name": "python3"
  },
  "language_info": {
   "codemirror_mode": {
    "name": "ipython",
    "version": 3
   },
   "file_extension": ".py",
   "mimetype": "text/x-python",
   "name": "python",
   "nbconvert_exporter": "python",
   "pygments_lexer": "ipython3",
   "version": "3.8.18"
  }
 },
 "nbformat": 4,
 "nbformat_minor": 2
}
